{
 "cells": [
  {
   "cell_type": "markdown",
   "id": "168f76e632b03357",
   "metadata": {},
   "source": [
    "\n",
    "-- y: labels created by dividing timeranges into two groups\n",
    "\n",
    "-- yn: labels created using month for beefban and wee for capital punishment and guncontrol.\n",
    "\n",
    "-- title: title of article\n",
    "\n",
    "-- text: first three sentences\n",
    "\n",
    "-- datetime: date of publication\n",
    "\n",
    "\n",
    "The dataset was split 70-20-10 as train-test-val sets 51 times. The precomputed splits are available in:\n",
    "\n",
    "-- train_idxs: Matrix with each row i containing training indexes of split i.\n",
    "\n",
    "-- test_idxs: Matrix with each row i containing test indexes of split i.\n",
    "\n",
    "-- val_idxs: Matrix with each row i containing val indexes of split i."
   ]
  },
  {
   "cell_type": "code",
   "execution_count": 2,
   "id": "c5475eebe65eac77",
   "metadata": {
    "ExecuteTime": {
     "end_time": "2025-04-13T14:29:10.537790Z",
     "start_time": "2025-04-13T14:29:02.313157Z"
    }
   },
   "outputs": [
    {
     "name": "stdout",
     "output_type": "stream",
     "text": [
      "Keys in the file: ['data', 'datetime', 'description', 'target', 'target-month', 'test_idxs', 'text', 'title', 'train_idxs', 'val_idxs']\n"
     ]
    }
   ],
   "source": [
    "import h5py\n",
    "\n",
    "# 打开 HDF5 文件\n",
    "file_path = \"mpsumm_capital.h5\"  # 确保路径正确\n",
    "with h5py.File(file_path, 'r') as h5_file:\n",
    "    # 打印文件中的所有键\n",
    "    print(\"Keys in the file:\", list(h5_file.keys()))"
   ]
  },
  {
   "cell_type": "markdown",
   "id": "e3b602c90b8bfa0",
   "metadata": {},
   "source": []
  },
  {
   "cell_type": "code",
   "execution_count": null,
   "id": "5d4f57c7fc302f0",
   "metadata": {
    "jupyter": {
     "is_executing": true
    }
   },
   "outputs": [],
   "source": [
    "with h5py.File(file_path, 'r') as h5_file:\n",
    "    # 读取数据集\n",
    "    data = h5_file['data'][:]\n",
    "    datetimes = h5_file['datetime'][:]\n",
    "    descriptions = h5_file['description'][:]\n",
    "    targets = h5_file['target'][:]\n",
    "    target_months = h5_file['target-month'][:]\n",
    "    test_idxs = h5_file['test_idxs'][:]\n",
    "    texts = h5_file['text'][:]\n",
    "    tittles = h5_file['title'][:]\n",
    "    train_idxs = h5_file['train_idxs'][:]\n",
    "    valid_idxs = h5_file['val_idxs'][:]"
   ]
  },
  {
   "cell_type": "markdown",
   "id": "24dde2205aff53ad",
   "metadata": {},
   "source": [
    "> -- data: Averaged GLOVE vectors of title and first 3 sentences, 300 dimensional"
   ]
  },
  {
   "cell_type": "code",
   "execution_count": 35,
   "id": "93f6925168b45cb2",
   "metadata": {
    "ExecuteTime": {
     "end_time": "2025-04-13T11:35:49.734890Z",
     "start_time": "2025-04-13T11:35:49.732025Z"
    }
   },
   "outputs": [
    {
     "data": {
      "text/plain": [
       "array([[-0.13888013,  0.06403138,  0.11031626, ..., -0.01297466,\n",
       "         0.00778873, -0.00468253],\n",
       "       [-0.10014006,  0.19925514,  0.00957371, ..., -0.09418804,\n",
       "         0.00743857,  0.00775319],\n",
       "       [-0.0164631 ,  0.1512986 , -0.02496838, ..., -0.10212737,\n",
       "        -0.04974487,  0.11820053],\n",
       "       ...,\n",
       "       [ 0.01873382,  0.19679333,  0.14761369, ..., -0.03853378,\n",
       "         0.00146349,  0.0079237 ],\n",
       "       [-0.08449318,  0.20081116,  0.08772445, ..., -0.08579757,\n",
       "        -0.07623701,  0.11696251],\n",
       "       [-0.30982029,  0.12357189, -0.12688163, ...,  0.04364977,\n",
       "        -0.01392595,  0.04480673]])"
      ]
     },
     "execution_count": 35,
     "metadata": {},
     "output_type": "execute_result"
    }
   ],
   "source": [
    "data"
   ]
  },
  {
   "cell_type": "code",
   "execution_count": 36,
   "id": "d7e1894e6fff4062",
   "metadata": {
    "ExecuteTime": {
     "end_time": "2025-04-13T11:35:51.893770Z",
     "start_time": "2025-04-13T11:35:51.890753Z"
    }
   },
   "outputs": [
    {
     "data": {
      "text/plain": [
       "array([b'2017-06-27 04:20:31', b'2017-06-27 04:41:27',\n",
       "       b'2017-06-27 05:00:51', ..., b'2017-10-23 09:36:27',\n",
       "       b'2017-10-23 19:42:26', b'2017-10-23 20:52:47'], dtype='|S19')"
      ]
     },
     "execution_count": 36,
     "metadata": {},
     "output_type": "execute_result"
    }
   ],
   "source": [
    "datetimes"
   ]
  },
  {
   "cell_type": "code",
   "execution_count": 40,
   "id": "b2621d253738891",
   "metadata": {
    "ExecuteTime": {
     "end_time": "2025-04-13T11:36:24.079122Z",
     "start_time": "2025-04-13T11:36:24.076745Z"
    }
   },
   "outputs": [
    {
     "data": {
      "text/plain": [
       "b'Vietnam will not consider abolishing capital punishment for corruption offenses, deputy chairman of the National Assembly Uong Chu Luu has said.. The abolition of the death penalty has been recommended for several crimes in Vietnam but that punishment will still be applied to those convicted of corruption as the highest sanction, Deputy Chairman Luu said.. The most prominent point of the proposed amendments to the Penal Code that the central government is about to submit to the National Assembly is narrowing the applicable scope of capital punishment, lowering jail - term sentences, and increasing pecuniary penalties, the official said in a recent meeting.. These new moves will help create conditions for offenders to remedy what they have brought about while committing crimes, he said.. Thus the abolition of the death penalty has been proposed for seven crimes, but they do not include corruption charges, he added.. Most participants in a recent seminar organized by the National Assembly Justice Committee agreed on that proposition, Luu said.. He stressed that corruption has caused great discontent and anxiety in society and the Party and State have shown strong determination to combat it, so the death penalty should be maintained as the highest punishment for those found guilty of corruption.. In a seminar on March 24, Dr. Nguyen Tat Vien, a standing member of the Central Steering Committee for Justice Reform, said, \"There are many opinions saying that the death penalty should be abolished for corruption or embezzlement convictions, but I think that such abolition should not be approved given the current situation.. \" \"Bribery and embezzlement are causing anger and displeasure in our society, undermining the prestige and efficiency of the state apparatus and threatening the survival of our regime.. If we do not severely crack down on such wrongdoings, people will lose their trust in the ongoing fight against corruption,\" Dr. Vien said.. However, among the amendments to the Penal Code is a suggestion that capital punishment should be commuted to a life sentence if the convicted can submit to competent agencies at least half of the money or property they have gained from their crimes; actively work with investigators on detecting, investigating, and handling criminals; or achieve a great feat.. Vietnam is mulling over the abolition of the death penalty for seven crimes: plundering property; destroying important national security works and/or facilities; disobeying orders in the military; surrendering to the enemy, which is applicable in the army; undermining peace, provoking aggressive wars; crimes against mankind; and war crimes.'"
      ]
     },
     "execution_count": 40,
     "metadata": {},
     "output_type": "execute_result"
    }
   ],
   "source": [
    "descriptions"
   ]
  },
  {
   "cell_type": "code",
   "execution_count": 21,
   "id": "b5f77d3c15cbfe74",
   "metadata": {
    "ExecuteTime": {
     "end_time": "2025-04-13T11:31:31.142842Z",
     "start_time": "2025-04-13T11:31:31.139987Z"
    }
   },
   "outputs": [
    {
     "data": {
      "text/plain": [
       "array([0, 0, 0, ..., 1, 1, 1], dtype=uint8)"
      ]
     },
     "execution_count": 21,
     "metadata": {},
     "output_type": "execute_result"
    }
   ],
   "source": [
    "targets"
   ]
  },
  {
   "cell_type": "code",
   "execution_count": 22,
   "id": "b47c129842b1504d",
   "metadata": {
    "ExecuteTime": {
     "end_time": "2025-04-13T11:31:39.416047Z",
     "start_time": "2025-04-13T11:31:39.413920Z"
    }
   },
   "outputs": [
    {
     "data": {
      "text/plain": [
       "array([ 0,  0,  0, ..., 17, 17, 17])"
      ]
     },
     "execution_count": 22,
     "metadata": {},
     "output_type": "execute_result"
    }
   ],
   "source": [
    "target_months"
   ]
  },
  {
   "cell_type": "code",
   "execution_count": 23,
   "id": "2cb920bdc2c8549f",
   "metadata": {
    "ExecuteTime": {
     "end_time": "2025-04-13T11:32:13.195332Z",
     "start_time": "2025-04-13T11:32:13.192570Z"
    }
   },
   "outputs": [
    {
     "data": {
      "text/plain": [
       "array([[1877, 5061, 4307, ..., 2077, 7757, 2093],\n",
       "       [3540, 7246, 1123, ..., 1039, 6332, 5470],\n",
       "       [2770, 2582, 3307, ..., 2853, 6108,    1],\n",
       "       ...,\n",
       "       [4221, 5988, 2076, ..., 4755, 7162, 5519],\n",
       "       [6728, 2915, 1009, ..., 6735, 4454, 6341],\n",
       "       [3700, 6747,  169, ..., 7554, 4714, 6834]])"
      ]
     },
     "execution_count": 23,
     "metadata": {},
     "output_type": "execute_result"
    }
   ],
   "source": [
    "test_idxs"
   ]
  },
  {
   "cell_type": "code",
   "execution_count": 25,
   "id": "65eb6085baab5394",
   "metadata": {
    "ExecuteTime": {
     "end_time": "2025-04-13T11:32:25.912137Z",
     "start_time": "2025-04-13T11:32:25.909131Z"
    }
   },
   "outputs": [
    {
     "data": {
      "text/plain": [
       "array([b'Vietnam will not consider abolishing capital punishment for corruption offenses, deputy chairman of the National Assembly Uong Chu Luu has said.. The abolition of the death penalty has been recommended for several crimes in Vietnam but that punishment will still be applied to those convicted of corruption as the highest sanction, Deputy Chairman Luu said.. The most prominent point of the proposed amendments to the Penal Code that the central government is about to submit to the National Assembly is narrowing the applicable scope of capital punishment, lowering jail - term sentences, and increasing pecuniary penalties, the official said in a recent meeting.',\n",
       "       b'Convicted cop - killer Ronell Wilson will live the rest of his days in a federal prison, after prosecutors said Monday they would not be challenging a court ruling blocking Wilson\\'s death sentence.. Brooklyn federal prosecutors were planning an appeal of Judge Nicholas Garaufis\\'s decision last year that Wilson couldn\\'t be executed because he was intellectually disabled in the eyes of the law.. But on Monday, Acting Brooklyn US Attorney Bridget Rohde said her office was dropping the challenge \"after further consideration of all the pertinent legal issues.',\n",
       "       b'A city council member in Ohio, the state with the highest number of heroin overdose deaths, has proposed a controversial way to deal with the issue.. A Middletown, Ohio city council member has proposed a new plan which would prevent people who need medical assistance from receiving help from city - dispatched first responders more than twice under certain conditions, according to WKYC.. \"If the dispatcher determines that the person who\\'s overdosed is someone who\\'s been part of the program for two previous overdoses and has not completed the community service and has not cooperated in the program, then we wouldn\\'t dispatch,\" Dan Picard, the Middletown city council member, said.',\n",
       "       ...,\n",
       "       b'The four attackers, Akshay Thakur, Vinay Sharma, Mukesh Singh and Pawan Gupta (from left to right), have had their death sentence upheld (Picture: AFP/Getty The four men who fatally gang - raped a woman on board a bus in 2012 have had their death sentences upheld.. Victim of gang rape woke up to bodies of 14 relatives around her The attackers were sentenced to death in 2013 by the trial court while the fifth hanged himself in prison during the original seven - month case.. The verdict was upheld by the high court in 2014 but the attackers - Vinay Sharma, Akshay Kumar Thakur, Pawan Gupta, and Mukesh Singh - appealed to the Supreme Court.',\n",
       "       b'Missouri has one of the most active death chambers in the United States.. The last execution was in 2017, for a prisoner who was 18 at the time of his crime.. Missouri has executed several people for crimes they committed as teenagers.',\n",
       "       b\"The death penalty has long been a subject of controversy.. Some of those against it argue that it's not our place to take the life of another human, no matter how heinous the crime.. Others say the process amounts to cruelty akin to torture.\"],\n",
       "      dtype='|S1352')"
      ]
     },
     "execution_count": 25,
     "metadata": {},
     "output_type": "execute_result"
    }
   ],
   "source": [
    "texts"
   ]
  },
  {
   "cell_type": "code",
   "execution_count": 28,
   "id": "79d9ba181c60ca1e",
   "metadata": {
    "ExecuteTime": {
     "end_time": "2025-04-13T11:32:48.962927Z",
     "start_time": "2025-04-13T11:32:48.958774Z"
    }
   },
   "outputs": [
    {
     "data": {
      "text/plain": [
       "array([b'Vietnam not to drop death penalty for corruption',\n",
       "       b'Prosecutors end death penalty bid for cop-killer Ronell Wilson',\n",
       "       b'Ohio city rep proposes new system to combat expensive overdose drug',\n",
       "       ...,\n",
       "       b'Four men who gang-raped woman on bus will be hanged after losing appeal',\n",
       "       b'COB DRSP Advocacy \\xe2\\x80\\x94 Death Row Advocacy: Alabama',\n",
       "       b'The Death Penalty: Do We Kill Innocent People?'], dtype='|S201')"
      ]
     },
     "execution_count": 28,
     "metadata": {},
     "output_type": "execute_result"
    }
   ],
   "source": [
    "tittles"
   ]
  },
  {
   "cell_type": "code",
   "execution_count": 29,
   "id": "f83c483e4ff63eac",
   "metadata": {
    "ExecuteTime": {
     "end_time": "2025-04-13T11:33:07.293080Z",
     "start_time": "2025-04-13T11:33:07.290749Z"
    }
   },
   "outputs": [
    {
     "data": {
      "text/plain": [
       "array([[ 548, 1898, 3987, ..., 2424,  420, 6262],\n",
       "       [3809,  960, 6870, ..., 3675, 2369, 2718],\n",
       "       [5589, 2821, 7193, ..., 5221, 2978, 3039],\n",
       "       ...,\n",
       "       [7474, 1958,    0, ..., 7326, 1326, 4252],\n",
       "       [ 161,  991,  435, ...,   10, 2003, 3686],\n",
       "       [4297, 7652, 3461, ..., 2204, 2018, 6385]])"
      ]
     },
     "execution_count": 29,
     "metadata": {},
     "output_type": "execute_result"
    }
   ],
   "source": [
    "train_idxs"
   ]
  },
  {
   "cell_type": "code",
   "execution_count": 31,
   "id": "2322586572864bbf",
   "metadata": {
    "ExecuteTime": {
     "end_time": "2025-04-13T11:33:26.847203Z",
     "start_time": "2025-04-13T11:33:26.845004Z"
    }
   },
   "outputs": [
    {
     "data": {
      "text/plain": [
       "array([[2783, 6152, 6210, ..., 1836, 3443, 7675],\n",
       "       [2783, 6152, 6210, ..., 1836, 3443, 7675],\n",
       "       [2783, 6152, 6210, ..., 1836, 3443, 7675],\n",
       "       ...,\n",
       "       [2783, 6152, 6210, ..., 1836, 3443, 7675],\n",
       "       [2783, 6152, 6210, ..., 1836, 3443, 7675],\n",
       "       [2783, 6152, 6210, ..., 1836, 3443, 7675]])"
      ]
     },
     "execution_count": 31,
     "metadata": {},
     "output_type": "execute_result"
    }
   ],
   "source": [
    "valid_idxs"
   ]
  },
  {
   "cell_type": "code",
   "execution_count": 42,
   "id": "63e367e057911726",
   "metadata": {
    "ExecuteTime": {
     "end_time": "2025-04-13T11:41:53.925845Z",
     "start_time": "2025-04-13T11:41:52.104773Z"
    }
   },
   "outputs": [],
   "source": [
    "import pandas as pd\n",
    "times = []\n",
    "descriptions = []\n",
    "titles = []\n",
    "with h5py.File(file_path, 'r') as h5_file:\n",
    "    for time, desc, title in zip(h5_file['datetime'], h5_file['description'], h5_file['title']):\n",
    "        times.append(time)\n",
    "        descriptions.append(desc)\n",
    "        titles.append(title)"
   ]
  },
  {
   "cell_type": "code",
   "execution_count": 49,
   "id": "13af2554ab19c581",
   "metadata": {
    "ExecuteTime": {
     "end_time": "2025-04-13T11:45:13.042536Z",
     "start_time": "2025-04-13T11:45:12.827039Z"
    }
   },
   "outputs": [],
   "source": [
    "import pandas as pd\n",
    "from datetime import datetime\n",
    "\n",
    "# 创建DataFrame并处理可能的字节字符串\n",
    "data = []\n",
    "for t, d, title in zip(times, descriptions, titles):\n",
    "    # 转换字节字符串为普通字符串\n",
    "    time_str = t.decode('utf-8') if isinstance(t, bytes) else t\n",
    "    desc_str = d.decode('utf-8') if isinstance(d, bytes) else d\n",
    "    title_str = title.decode('utf-8') if isinstance(title, bytes) else title\n",
    "\n",
    "\n",
    "    data.append({\n",
    "        'datetime': time_str,\n",
    "        'description': desc_str,\n",
    "        'title': title_str,\n",
    "    })\n",
    "\n",
    "# 创建DataFrame\n",
    "df = pd.DataFrame(data)\n",
    "\n",
    "# 保存完整数据\n",
    "df.to_csv('twitter_capital_data.csv', index=False, encoding='utf-8')"
   ]
  },
  {
   "cell_type": "code",
   "execution_count": null,
   "id": "2761a094017096be",
   "metadata": {},
   "outputs": [],
   "source": []
  }
 ],
 "metadata": {
  "kernelspec": {
   "display_name": "machine_learning",
   "language": "python",
   "name": "python3"
  },
  "language_info": {
   "codemirror_mode": {
    "name": "ipython",
    "version": 2
   },
   "file_extension": ".py",
   "mimetype": "text/x-python",
   "name": "python",
   "nbconvert_exporter": "python",
   "pygments_lexer": "ipython2",
   "version": "3.12.9"
  }
 },
 "nbformat": 4,
 "nbformat_minor": 5
}
