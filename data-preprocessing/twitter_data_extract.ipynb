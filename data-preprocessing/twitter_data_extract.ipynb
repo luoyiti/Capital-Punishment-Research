{
 "cells": [
  {
   "cell_type": "code",
   "id": "initial_id",
   "metadata": {
    "collapsed": true
   },
   "source": [
    "import openxlab\n",
    "openxlab.login(ak='z3ndpl84k2qygwylyg29', sk= 'lvyke0lqr2n4pdgj16x8vnmmkgewqowkbozmmad1') # 进行登录，输入对应的AK/SK，可在个人中心查看AK/SK"
   ],
   "outputs": [],
   "execution_count": null
  },
  {
   "metadata": {},
   "cell_type": "code",
   "outputs": [],
   "execution_count": null,
   "source": [
    "from openxlab.dataset import info\n",
    "info(dataset_repo='OpenDataLab/Controversial_News_Topic_etc') #数据集信息查看\n",
    "\n",
    "from openxlab.dataset import get\n",
    "get(dataset_repo='OpenDataLab/Controversial_News_Topic_etc', target_path='/path/to/local/folder/') # 数据集下载\n",
    "\n",
    "from openxlab.dataset import download\n",
    "download(dataset_repo='OpenDataLab/Controversial_News_Topic_etc',source_path='/README.md', target_path='/path/to/local/folder') #数据集文件下载"
   ],
   "id": "6f43d6831c1f881"
  }
 ],
 "metadata": {
  "kernelspec": {
   "display_name": "Python 3",
   "language": "python",
   "name": "python3"
  },
  "language_info": {
   "codemirror_mode": {
    "name": "ipython",
    "version": 2
   },
   "file_extension": ".py",
   "mimetype": "text/x-python",
   "name": "python",
   "nbconvert_exporter": "python",
   "pygments_lexer": "ipython2",
   "version": "2.7.6"
  }
 },
 "nbformat": 4,
 "nbformat_minor": 5
}
