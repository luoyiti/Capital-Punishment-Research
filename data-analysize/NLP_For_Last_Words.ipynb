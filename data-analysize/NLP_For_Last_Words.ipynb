{
 "cells": [
  {
   "cell_type": "markdown",
   "id": "83978b1f",
   "metadata": {},
   "source": [
    "# 基于SRL的忏悔识别"
   ]
  },
  {
   "cell_type": "code",
   "execution_count": 4,
   "id": "77239a99",
   "metadata": {},
   "outputs": [],
   "source": [
    "import spacy\n",
    "import pandas as pd\n",
    "import numpy as np\n",
    "nlp = spacy.load(\"en_core_web_lg\")"
   ]
  },
  {
   "cell_type": "code",
   "execution_count": 8,
   "id": "c9fa8da3",
   "metadata": {},
   "outputs": [
    {
     "data": {
      "text/plain": [
       "['I have come here today to die, not make speeches. Today is a good day for dying. My Honor Is My Life.',\n",
       " ' Tell Mama I love her.',\n",
       " nan,\n",
       " 'I just want everyone to know that the prosecutor and Bill Scott are sorry sons of bitches. To his family he added that he loved them all.',\n",
       " nan,\n",
       " nan,\n",
       " \" I'm innocent. I had nothing to do with my family's murders. I want to thank everyone who has supported me. I hope they continue to fight. You know who you are. That's all. Thank you, Warden.  \",\n",
       " \"  Yes sir. To Edie, Tom, and and Carma - I love all you all.  I appreciate all your support.  I love you Margherita, Father Guido, and Father Angelo.  I appreciate your spiritual support and all those that were in prayer for me.  I will be O.K.  I am at peace with all of this and I won't have to wake up in prison any more.  I love you all.  I totally surrender to the Lord.  I am ready, Warden. \",\n",
       " ' Into your hands Oh Lord, I commence my spirit.  Amen.  ',\n",
       " \"I would like to apologize to the Nix family for taking Mark away from you. I hope this brings you closure. I want to say to all my family and friends around the world 'thank you' for supporting me. To my kids, stand tall and continue to make me proud. Don¡¯t worry about me, I'm ready to fly. Alright Warden, I¡¯m ready to ride.\",\n",
       " \"Well, first, My people, you guys have heard everything I needed to say today. I hope I said the right things. I hope you heard me. And I hope you go beyond here and do what you need to do, do the right thing. Strength in numbers. Look out for each other. You still got a chance with Shawn. Edwin you know what you gotta do. You have my love. It's the right thing. And for everybody else, those people who have malice in their heart, allow ambitions to over ride what they know. Be right. Even though they just gotta do their job. For all of you with hatred in their veins, and think this is ashamed. You've done nothing. I did this, I chose this, you've done nothing. Remember this, if all you know is hatred, if all you know is blood love, you'll never be satisfied. For everybody out there that is like that and knows nothing but negative, kiss my proud white Irish ass. I'm ready Warden, send me home.  \",\n",
       " \"Tell my son I love him very much. God bless everybody. Continue to walk with God. Go Cowboys! Love ya'll man. Don't forget the T-ball. Ms. Mary, thank you for everything that you've done. You too, Brad, thank you. I can feel it, taste it, not bad.\",\n",
       " \" Kathy, y'all take and I bless all of you and I am glad I have had y'all in my life. As I have said from the very first thing, I am innocent of this crime and God knows I am innocent and the four people that was murdered know I am innocent and when I get to heaven I'll be hunting you and we'll talk. I feel sorry for the families that's had to suffer and my family and I have 'em all in my prayers. I love you all. Y'all take and y'all look after Sheila and Shannon and them, call 'em and get the pictures to 'em and everything and, ah, again, like I said, I feel sorry for the families, but if it takes my death to make them happy, then I will bless them. I have no hard feelings toward anyone cause the Lord feels that it is my time to come home to Him, my work on earth is done and that, ah, like I said, I am just sorry for, but they will have to go through this one time again, cause sooner or later, whoever did this crime is going to be caught and they'll have to come down here and do this again and they will realize they witnessed an innocent man going to be with Jesus Christ.  \",\n",
       " \"I would like to take this time to, ah, to use this moment an example for Christ. I would like to follow his example and leave with peace in my heart and forgiveness. There is no anger in my heart about this entire situation. I just want to testify to all of y'all that I have loved you. I appreciate your concern and genuine love for me. God bless you. I love all of all. Jesus is Lord.  \",\n",
       " '  I¡¯d like to take a moment to say I¡¯m sorry. No  amount of words could ever undo what I¡¯ve done. To the family of my  victims, I wish I could undo that past. It is what it is. God bless  all of you, I will die with a clear conscience. I made my peace. There is  no others. I would like to wish a Happy Birthday to Barbara Carrol, today  is her birthday. I would like to especially thank those that have helped  me, you know who you are. God bless everybody until we meet again.  I¡¯m ready warden.',\n",
       " nan,\n",
       " 'I would like to tell the victims¡¯ families that I am sorry, very sorry.I would like to tell the victims¡¯ families that I am sorry, very sorry.I would like to tell the victims¡¯ families that I am sorry, very sorry.Take my hand, Lord Jesus, I¡¯m coming home.',\n",
       " ' Yes.  Yes, I do.  Do I just talk to the front?  O.K.  To everybody on both sides of that wall--I want you to know I love you.  I am sorry that the child had to lose her life, but I should not have to be here.  Tell my family I love them all and I will see them in Heaven.  Come home when you can.  I am done.  Love you all. ',\n",
       " ' Like to tell my friends that I love them. Appreciate them being here to support me. Alison, I love you.  ',\n",
       " \" Yes, nothing I can say can change the past. I am asking for forgiveness. Saying sorry is not going to change anything. I hope one day you can find peace. I am sorry for all of the pain that I have caused you for all those years. There is nothing else I can say, that can help you. Mija, I love you. Sis, Cynthia, and Sandy, keep on going and it will be O.K. I am sorry to put you through this as well. I can't change the past. I hope you find peace and know that I love you. I am sorry. I am sorry and I can't change it.  \",\n",
       " nan,\n",
       " ' wished my whole life would have been spent as Islamic',\n",
       " 'I would like to thank all of the supporting people who helped me over the years. To mad Maddie, my twin Sonja, Angie, and all the homies. AKA money and Peruvian queen including crazy Dominican. I was so glad to leave this world a better, more positive place. It¡¯s not an easy life with all the negativities. Love all my friends and all the friendship¡¯s that I have made. They are like the sky. It is all part of life, like a big full plate of food for the soul. I hope I left everyone a plate of food full of happy memories, happiness and no sadness. I¡¯m done warden.',\n",
       " \"  First of all, I would like to apologize to the Guajardo family even though they are not present. I loved Yolanda a lot. I hope and pray they can forgive me for all the pain. To my family, stay strong. Tom, Orlando, Celia, stay strong. Michael, thank you for your friendship. Thank you for the support you have given me. I thank all of you and I love all of you. To the guys on death row, stay strong and I hope to see you someday. Bye bye, I love you guys, don't worry about me. It's going to be alright. \",\n",
       " \"  Don't cry, it's my situation. I got it. Hold tight, It's going to shine on the golden child. Hold tight. I love you , I'm through with my statement.  \",\n",
       " nan,\n",
       " \" I want you all to know, everyone with all my heart, soul, mind and strength. Thank you for being here today to honor Falicia Prechtl, whom I didn't even know. To celebrate my death. My death began on August 2, 1991 and continued when I began to see the beautiful and innocent life that I had taken. I am so terribly sorry. I wish I could die more than once to tell you how sorry I am. I have said in interviews, if you want to hurt me and choke me, that's how terrible I felt before this crime. I am sorry, it is her innocence and her life which began the remorse every since December 1, 1991. I have embraced life. Thank you for being a part of my life. I love you. May God be with us all. May God have mercy on us all. I am ready. Please do not hate anybody because.......(end of statement)  \",\n",
       " \"  Yes.  Man, I just want you to know how much I love them.  I want you to be strong and get through this time.  Do not fall back.  Keep going forward.  Don't let this hinder you.  Let everybody know I love them (several names listed), Kevin - as well as everyone else in the family.  Tell them that I love them and stay strong.  This is kind of hard to put words together; I am nervous and it is hard to put my thoughts together.  Sometimes you don't know what to say; I hope these words give you comfort.  I don't know what to say.  I want you to know I love you; just stay strong and don't give up.  Let everybody know I love them...and love is unconditional, as Mama has always told us.  I may be gone in the flesh, but I am always with you in spirit.  I love you. \",\n",
       " ' A lot of people have always asked if there is a Heaven, and I say there is.  There is a Heaven and a Hell.  They ask, \"Who goes to Heaven?\"  I believe that it is those who have placed their faith in Jesus Christ. Romans 3:25:  For all have sinned and come short of the glory of God. Romans 6:23:  The wages of sin is death, but the gift of God is eternal life. Romans 5:8:  While we were yet sinners, Christ died for us. Romans 10:9:  If you confess with your mouth the Lord Jesus Christ, and that He was raised from the dead, thou shalt be saved. John 3:16:  For God so loved the world, that He gave his only begotten Son, that whosoever believeth in Him shall have everlasting life. A lot of people forget about: John3:36:  If you have the Son, you have life and if you have not the Son, the wrath of God lies on you. In this life, we sin and we make mistakes: 1 John 1:19:  If we confess our sins, He is faithful and just to forgive our sins. I had a verse that jumped out at me a few days ago.  Psalm 99:8 speaks of the holiness of God and He was to the people a God who forgave, but He took vengeance on his deeds.  I am not here because of my faith in the Lord Jesus, but I am here for not other reason than my own actions.  To the Bakers, I am really sorry for the pain and sorrow I caused you.  I really do not know what to say, but I am sorry - forgive me.  And to my parents, I am sorry for the pain I have caused you.  Forgive me; thank you for your love. ',\n",
       " \"I just wanted to say thanks to all who have supported me over the years: Reverend Campbell, for my spiritual guidance; Aaron, the father of Darrian, my son; and Maurie, my attorney. Thank you everybody. This is not a loss, this is a win. You know where I am going. I am going home to be with Jesus. Keep the faith. I love ya'll. Thank you, Chaplain. \",\n",
       " ' The Polunsky dungeon should be compared with the Death Row Community as existing not living. Why do I say this, the Death Row is full of isolated hearts and suppressed minds. We are filled with love looking for affection and a way to understand. I am a Death Row resident of the Polunsky dungeon. Why does my heart ache. We want pleasure love and satisfaction. It. The walls of darkness crushed in on me. Life without meaning is life without purpose. But the solace within the Polunsky dungeon, the unforgivesness within society, the church Pastors and Christians. It is terrifying. Does anyone care or who I am. Can you feel me people. The Polunsky dungeon is what I call the pit of hopelessness. The terrfying thing is the US is the only place, country that is the only civilized country that is free that says it will stop murder and enable justice. I ask each of you to lift up your voices to demand an end to the Death Penalty. If we live, we live to the Lord. If we die we die to the Lord. Christ rose again, in Jesus name. Bye Aunt Helen, Luise, Joanna and to all the rest of yall. You may proceed Warden. (began singing)  ',\n",
       " '  Yes I do. There has been a lot of confusion on who done this. I know you all want closure. Donna had her Christianity in tact when she died. She never went to a drug house. John Adams lied. He went to the police and told them a story. He made deals and sold stuff to keep from going to prison. I left the house, and I left him there. My only act or involvement was not telling on him. John Adams is the one that killed Donna Vick. I took a polygraph and passed. John Adams never volunteered to take one. I have done everything in my power. Donna Vick helped me; she took me off the street. I was a truck driver; my CDL was still active. Donna gave me everything I could ask for. I helped her around the yard. I helped her around the house. She asked if there were anyone else to help. I am a Christian myself, so I told her about John Adam. We picked him up at a dope house. I did not know he was a career criminal. When we got to the house he was jonesin for drugs. He has to go to Dallas. I was in the bathroom when he attacked. I am deaf in one ear and I thought the T.V. was up too loud. I ran in to the bedroom. By the time I came in, when I tried to help her, with first aid, it was too late. The veins were cut on her throat. He stabbed her in her heart, and that\\'s what killed her. I told John Adams, \"turn yourself in or hit the high road.\" I owed him a favor because he pulled someone off my back. I was in a fight downtown. Two or three days later he turned on me. I have done everything to prove my innocence. Before you is an innocent man. I love my famly. I\\'ll be waiting on ya\\'ll. I\\'m finished talking. ',\n",
       " \" Yes, sir. To the victim's family, I'm sorry for what was taken from you. I hope you find peace. To my sweet Claudia, I love you. Stay strong, keep building, and be careful. Be careful. I love you. I'm through.  \",\n",
       " ' I would just...  I love all of you.  I love you Lundy, Levi, my dad.  I have no grudges against anyone, or any of the things that have gone wrong.  I would like to say to the world, I have always been a nice person.  I have never been mean-hearted or cruel.  I wish everybody well. ',\n",
       " nan,\n",
       " ' Yes, I would like to thank all of my supporters and  loved ones. I love you, love y¡¯all, always going to be with y¡¯all.  Thank you Warden.',\n",
       " 'Jesus, the Lord, is everything to me. I am nothing without him. Praise Jesus. Praise God',\n",
       " \"First, I want to let my mom know not to cry, there is no reason to cry, everybody dies. Everybody has their time, don't worry about me. I'm strong. To my family: my old man, my kids, daddy is sorry. I love each and every one of you. I'll be looking for you. To my wife, I love you. The last two years have been the best. All my kids, mom, nieces, and nephews, I am proud of all of ya'll. I love each and every one of ya'll. I really love ya'll.To the victims, I'm very sorry for everything that happened. I am not the malicious person that you think I am. I was real stupid back then. I made a great many mistakes. What happened was wrong. I was a kid in a grown man's world. I messed up, and I can't take it back. I wasn't old enough to understand. Please don't carry around that hurt in your heart. You have got to find a way to get rid of the hate. Trust me, killing me is not going to give you closure. I hope you find closure. Don't let that hate eat you up, find a way to get past it.Linda, I love you, I appreciate you. I hate the way things turned out. Ms. Sheri, thank you. To the victims again, I hate the way all of this happened to ya'll. I don't think any good will come of this. I am going to see ya'll again. I love ya'll, be strong for me. Keep your heads up. I came into the world strong. I'll leave the world strong. Warden, go ahead. I am sorry for the victim's family. Murder isn't right, killing of any kind isn't right. Got to find another way.\",\n",
       " ' Tell my family I love y\\'all. Watch out for Momma. Don\\'t want to talk too much, I will cry. I\\'ll just cry everywhere. I\\'m sorry, Teach, for not being a better son and not doing better things. It wasn\\'t your fault. You raised me the way you should, at least I won\\'t be there no more. I miss you, too. I see you there, you doing alright? I sent you a letter. Neckbone, there\\'s a sheet, I got your name on it. Keep on writing, now. Write to the, hun. Charles, keep the right, now. You people over there. You know what these people are doing. By them executing me ain\\'t doing nothing right. I don\\'t weigh 180 pounds and 5\\'7\". Take care, love y\\'all. Did Roger come up here yet? Tell Pat and them I love them. I\\'m gonna go ahead and let them do what their gonna do. Help your sister, see ya later Pat, love ya Becca. Do what you do, Warden.  ',\n",
       " nan,\n",
       " nan,\n",
       " \"  If I can go back and change the past I would, there's nothing I can do. I'm sorry. I love you Adonya. That's it.  \",\n",
       " nan,\n",
       " nan,\n",
       " \" Yes I do, I know this no way makes up for all the pain and suffering I gave you. I am so so sorry. My punishment is nothing compared to the pain and sorrow I have caused. I hope that someday you can find peace. I am not strong enough to ask for forgiveness because I don't if I am worth. I realize what I've done to you and the pain I've given. Please Lord forgive me. I have done some horrible things. I ask the Lord to please forgive me. I have gained nothing, but just brought sorrow and pain to these wonderful people. I am sorry. So so sorry. To the Sanchez family who showed me love. To the Hawkings' family, I am sorry. I know I have affected them for so long. Please forgive me. Irene, I want to thank you and thank your husband Jack. I'll be waiting for you. I am so sorry. To these families I ask forgiveness. Father God I ask you too for forgiveness. I ask you for forgiveness Lord. I am ready to go Lord. Thank you. I am ready to go. My Jesus my Savior there is none like you. All of my days I want to praise, let every breath. Shout to the Lord let us sing.   \",\n",
       " ' May I speak to my family?  Honey, I love you.  Be strong and take care of yourselves.  Thanks for being there.  Take care of yourself.  Ms. Irene, thank you for everything you have done.  Chaplain Hart, thank you for helping me.  Gary, thank you.  Maria, Maria, I love you baby.  Thank you for being there for me and all these people here will find the one who did this damn crime.  I am going home to be with God.  Thank you.  Thank you, Warden. ',\n",
       " 'I deserve this. Tell everyone I said goodbye.',\n",
       " nan,\n",
       " nan,\n",
       " 'Yes ma¡¯am, I want to thank y¡¯all. I love y¡¯all for supporting me. I want to apologize for the wrong I did to y¡¯all. Forgive me, I¡¯m ready ma¡¯am.',\n",
       " 'I hereby declare, Robert Steven Everett and Nicholas Velasquez, guilty of crimes against me, Douglas Alan Feldman. Either by fact or by proxy, I find them both guilty. I hereby sentence both of them to death, which I carried out in August 1998. As of that time, the State of Texas has been holding me illegally in confinement and by force for 15 years. I hereby protest my pending execution and demand immediate relief.',\n",
       " 'I just want to tell Catharina I love you. Take care of yourself. That¡¯s all I have to say.',\n",
       " \" I just want to tell my Mom that I am sorry that I caused her so much pain and my family and stuff.  I love them and I hurt for the the fact that they are going to be hurting.  I really hate that; and that I'm hoping they are going to be O.K.  \",\n",
       " \" To the families of Ms. Thompson and Ms. Cutler. I am sorry for what happened and that it was because of me that they are gone.  If there were any way I could change things and bring them back I would. But I can't.  Because of what I caused to happen many people were affected and I am very sorry that I did.  I have made my peace with God and I pray that soon everyone will be able to have closure in their hearts and lives.  To my family and friends, I love you and some day we will all be together again.  \",\n",
       " \"Yes, I would like to tell my family that I love ya'll and I wish ya'll well. I'm ready. \",\n",
       " nan,\n",
       " 'I am sorry for what I did to your mom. It isn¡¯t because I¡¯m going to die. All my life I have been locked up. I could never forgive what I done. I am sorry for all of you. I love you all. Thank you for supporting me. I thank you for being kind to me when I was small. Thank you, God.All right',\n",
       " ' I would like to say first of all the real violent crimes in this case are acts committed by James Boswell and Clay Morgan Gaines. We have the physical evidence to prove fabrication and cover-up. The people responsible for killing me will have blood on their hands for an unprovoked murder. I am not guilty; I acted in self-defense and reflex in the face of a police officer who was out of control. James Boswell had his head beat in; possibly due to this he had problems. My jurors had not heard about that. They did not know he had suffered a head injury from the beating by a crack dealer five months earlier; that he was filled with anger and wrote an angry letter to the Houston Chronicle. He expressed his frustration at the mayor, police chief and fire chief. He was mad at the world. Three and a half months before I worked on a deal with the DEA, the informant was let off. At the moment he left the courtroom, he became angry with me; Officer Boswell was upset about this. Officer Boswell and an angry woman were in the police car and they were talking in raised voices. In other words, Officer Boswell was angry at the time I walked up. Officer Boswell may have reacted to the...(Offender stopped speaking in mid-sentence.) ',\n",
       " \" I do, I want to address you, I am sorry. I don't know who you are. I am sorry I put you through some things that I can't take back. I am sorry. This isn't going to change anything. Sorry for putting you through this. This is creating more victims. I am sorry, I put you through this. I love you man, I love you. This is not gonna change anything. This person shoe did that 10 years ago isn't the same person you see today. I hurt a lot of people with decisions I made. I can't be more sorry than I am right now. I hurt the Lopes family, let this be a lesson. Your decisions affect everybody. Look after your sister for me. I am always gonna be with you. I love you too Shay I love you if your listening I am sorry to be putting everybody through this. This is the end of this, time to move on. I hope this brings you peace, I am sorry. I told your sister my last words. Danielle, you know that I love you. You know that you have my heart, I've enjoyed these times. I love you little hef.  \",\n",
       " nan,\n",
       " \"  First I want to say to the family, I'm sorry I hope you find it in your heart to forgive me. The Lord has forgiven me. All I can say is I'm sorry. God Bless. To my family, I'll be there waiting for ya'll, alright? God Bless.  \",\n",
       " \"I would like to tell the Canfield family I'm sorry; sorry for your loss. I wish I could take it back, but I can't. I hope this gives you closure. I did not murder your loved one, it was an accident. I didn't mean for it to happen. I take full responsibility.To my family, we've talked earlier and you know I'm at peace. God is the ultimate judge, he knows what happened. We talked earlier. I love all of y'all. I'm ready Warden.\",\n",
       " 'There¡¯s love and peace in Islam.',\n",
       " 'Adios, amigos, I¡¯ll see ya¡¯ll on the other side. I¡¯m ready when ya¡¯ll are.',\n",
       " nan,\n",
       " nan,\n",
       " ' Yes sir, to my family and children, I love you very much.  Dianne, Virginia, Toby and Irene I love all of you.  I apologize for not being the man you wanted me to be.  I am going to be free, I am going to Heaven.  Please be strong and I love you all. To the Wright family, I pray for you, please find peace in your heart.  I know you may hate me for whatever reason, the Lord says hate no one.  I hope you find peace in your heart.  I know my words cannot help you, I truly mean what I say.  God Bless you all.  I love you Dianne, Mary Virginia. Kick the tires and light the fire, I am going home to see my son and my mom, I love you and God Bless you.  ',\n",
       " \"I don't know if you remember back in 2000, you were happy the way it happened. You were looking for me yourself and would have taken care of me yourself. I am glad it happened this way. I wouldn't want to see you in my shoes. You would have probably been here, not me. I wouldn't wish this on you. I hope this can bring some relief to you and your family. I have no hate for you.(In Spanish): Grandmother, Lilia, and Robert; have hope for me. I am with God. Thanks for being with me and all of your love. Mom, take care of my daughter. Many kisses, Mom.Robert don't forget what I told you, I hope that this serves as an example for the youngsters. Think about it before you make a bad decision. Let's go, Warden. I'm ready. \",\n",
       " \"  First off I'd like to say to Mr. and Mrs. Carrier, I apologize for your pain and suffering. I pray Lord, please forgive me. To my family, to my brother Gerard, I love you, Harold, I love you. To my step father Paul, I love you. Momma, I will always love you. Take care of my daughters, Kaneisha and Ieisha. Dad loves you. Continue to pray for me, I am fine. I have made peace with God. Please don't ever forget me. I love you mom. I love you all, take care. I love you too pop, keep your head up. Take care. I am going to sleep. \",\n",
       " 'I just want to tell my family I love them, and I thank the Lord Jesus for giving me another chance and for saving me.',\n",
       " \" I'm sorry, I wish I could bring them back. I'm done, let's do it.  \",\n",
       " \" Maggie, I am sorry. I always wanted to tell you but I just didn't know how. I have been praying for y'all. I hope that y'all find the peace that y'all have been wanting. Lord, thank you for all my family, all my friends, and all my brothers on the row. Thank you for my spiritual family. Lord, be merciful with those who are actively involved with the taking of my life, forgive them as I am forgiving them. Be merciful to me a sinner. Protect us Lord as we stay awake and watch over us as we sleep as we wake may we may keep watch with Christ and sleep rest in His peace. All right, Warden. I am ready to go home.  \",\n",
       " \"I'm an innocent man. I did not kill anyone. Ya'll are killing an innocent man. My left arm is killing me. It hurts bad. \",\n",
       " \"  First of all I would like to tell my Uncle Kyle that I am sorry. I have been sorry for the last 10 years for what I did. I wish you could accept my apology. I know you can't accept my apology, I know you can't give your forgiveness; it's okay and I understand. I have done what I could to heal the rest of the family. I wish that someday you could come to terms and understand. I know I was wrong; I accept responsibility as a man. I take this penalty as a man. This doesn't solve anything, 'cause it hurts others that love me. I am sorry. I love you Kjersti. I love you too Roland. I love you too Uncle Kyle; I am still your nephew, no matter what you believe. \",\n",
       " \"  No, I love you. May the Lord be with you. Peace, I'm done. \",\n",
       " \"That each new indignity defeats only the body. Pampering the spirit with obscure merit. I love you all, that's it. \",\n",
       " \"You clown police. You gonna stop with all that killing all these kids. You're gonna stop killing innocent kids, murdering young kids. When I kill one or pop one, ya'll want to kill me. God has a plan for everything. You hear? I love everyone that loves me. I ain't got no love for anyone that don't love me.\",\n",
       " nan,\n",
       " nan,\n",
       " \"  Yes sir.  Sorry that I have to put my family through this.  All of you know I got my peace.  And I hope you find peace.  And to the family, the truth will come out and I hope you find peace.  I got my peace.  I hope everybody has their peace.  I am tired.  I am going to be in your heart.  I love you all.  To everybody else, the truth will be known.  It didn't come out in time to save my life.  It is wrong to put the families through this.  But when it comes out, I hope it stops this.  It is wrong for the prosecutors to lie and make witnesses say what they need them to say.  The truth has always been there.  I just hope everybody has their peace.  Today I get mine.  I love you all.  \"]"
      ]
     },
     "execution_count": 8,
     "metadata": {},
     "output_type": "execute_result"
    }
   ],
   "source": [
    "sample_df = pd.read_csv(\"../data/last_words_sampled_rows.csv\")\n",
    "sample_statements = sample_df[\"last.statement\"].tolist()\n",
    "sample_statements"
   ]
  },
  {
   "cell_type": "markdown",
   "id": "434e91d4",
   "metadata": {},
   "source": [
    "## 找到文本中的受害者"
   ]
  },
  {
   "cell_type": "code",
   "execution_count": null,
   "id": "47fe40a6",
   "metadata": {},
   "outputs": [],
   "source": [
    "def is_family_member(sentence, entity):\n",
    "    \"\"\"\n",
    "    Determine if an entity in a sentence is a family member based on contextual clues.\n",
    "    \n",
    "    Args:\n",
    "        sentence (str): The sentence containing the entity\n",
    "        entity (spacy.tokens.span.Span): The entity to check\n",
    "        \n",
    "    Returns:\n",
    "        bool: True if the entity is likely a family member, False otherwise\n",
    "    \"\"\"\n",
    "    if entity.text == \"God\":\n",
    "        return False\n",
    "    # Family-related terms\n",
    "    family_terms = [\n",
    "        \"family\", \"mother\", \"father\", \"mom\", \"dad\", \"brother\", \"sister\", \n",
    "        \"son\", \"daughter\", \"child\", \"children\", \"kids\", \"wife\", \"husband\", \n",
    "        \"spouse\", \"grandma\", \"grandpa\", \"grandmother\", \"grandfather\", \n",
    "        \"aunt\", \"uncle\", \"cousin\", \"niece\", \"nephew\", \"parents\"\n",
    "    ]\n",
    "    \n",
    "    # Create a spaCy Doc object\n",
    "    doc = nlp(sentence)\n",
    "    \n",
    "    # Find the entity in the sentence\n",
    "    entity_tokens = []\n",
    "    entity_text = entity.text.lower()\n",
    "    for token in doc:\n",
    "        if token.text.lower() == entity_text:\n",
    "            entity_tokens.append(token)\n",
    "    \n",
    "    if not entity_tokens:\n",
    "        return False\n",
    "    \n",
    "    # Check if the entity is explicitly referred to as a family member\n",
    "    for token in entity_tokens:\n",
    "        # Look at a window of 5 tokens around the entity\n",
    "        start = max(0, token.i - 5)\n",
    "        end = min(len(doc), token.i + 6)\n",
    "        window = doc[start:end]\n",
    "        \n",
    "        # Check if there are family terms in the window\n",
    "        for w in window:\n",
    "            if w.text.lower() in family_terms:\n",
    "                return True\n",
    "        \n",
    "        # Check for possessive patterns like \"my [entity]\" or \"[entity] is my...\"\n",
    "        for i, w in enumerate(window):\n",
    "            if i < len(window) - 1 and w.text.lower() == \"my\" and window[i+1].text.lower() == entity_text:\n",
    "                return True\n",
    "                \n",
    "        # Check for relationship indicators\n",
    "        for w in window:\n",
    "            if w.dep_ == \"poss\" and w.text.lower() in [\"my\", \"our\"]:\n",
    "                return True\n",
    "    \n",
    "    return False"
   ]
  },
  {
   "cell_type": "code",
   "execution_count": 70,
   "id": "7dc686f1",
   "metadata": {},
   "outputs": [
    {
     "data": {
      "text/plain": [
       "\"Tell my son I love him very much. God bless everybody. Continue to walk with God. Go Cowboys! Love ya'll man. Don't forget the T-ball. Ms. Mary, thank you for everything that you've done. You too, Brad, thank you. I can feel it, taste it, not bad.\""
      ]
     },
     "execution_count": 70,
     "metadata": {},
     "output_type": "execute_result"
    }
   ],
   "source": [
    "sample_statements[11]"
   ]
  },
  {
   "cell_type": "code",
   "execution_count": null,
   "id": "1cfef02b",
   "metadata": {},
   "outputs": [],
   "source": [
    "appologize_tokens = [\n",
    "    'sorry',\n",
    "    'apologize',\n",
    "    'forgive',\n",
    "    'regret',\n",
    "    'remorse',\n",
    "]\n",
    "def regret_dector(statement):\n",
    "    \"\"\"\n",
    "    This function takes a statement and returns 1 if it contains any of the words\n",
    "    'sorry', 'apologize', 'regret', or 'forgive'. Otherwise, it returns 0.\n",
    "    \"\"\"\n",
    "    doc = nlp(statement)\n",
    "    # 对doc进行分句\n",
    "    sentences = list(doc.sents)\n",
    "    for sentence in sentences:\n",
    "        # 首先，道歉的主语应当是自己，而不是他人\n",
    "        sen = nlp(sentence.text)\n",
    "        # 检查道歉的主语是否是自己\n",
    "        if not any(token.text.lower() in [\"i\", \"me\", \"myself\"] for token in sen if token.dep_ == \"nsubj\"):\n",
    "            continue\n",
    "        # 检查道歉的谓语是否为自己的家人，如果是，则跳过此循环\n",
    "        if any(token.text.lower() in [\"family\", \"kids\", \"children\", \"mom\", \"dad\", \"parents\"] for token in sen if token.dep_ == \"dobj\"):\n",
    "            continue\n",
    "        # 最后，检查是否存在道歉行为，首先，看是否有道歉的相关谓词\n",
    "        for token in sen:\n",
    "            # 其次，token的词形应当是道歉相关的词\n",
    "            if token.lemma_ in appologize_tokens:\n",
    "                return 1\n",
    "        # 检查句子中是否有承担责任的表达, 如果有，也返回1\n",
    "        if any(token.text.lower() in [\"responsibility\", \"accountable\", \"blame\"] for token in sen):\n",
    "            return 1\n",
    "    return 0\n"
   ]
  },
  {
   "cell_type": "code",
   "execution_count": null,
   "id": "0db87a47",
   "metadata": {},
   "outputs": [
    {
     "data": {
      "text/plain": [
       "1"
      ]
     },
     "execution_count": 32,
     "metadata": {},
     "output_type": "execute_result"
    }
   ],
   "source": [
    "regret_dector(sample_statements[12])"
   ]
  }
 ],
 "metadata": {
  "kernelspec": {
   "display_name": "machine_learning",
   "language": "python",
   "name": "python3"
  },
  "language_info": {
   "codemirror_mode": {
    "name": "ipython",
    "version": 3
   },
   "file_extension": ".py",
   "mimetype": "text/x-python",
   "name": "python",
   "nbconvert_exporter": "python",
   "pygments_lexer": "ipython3",
   "version": "3.12.9"
  }
 },
 "nbformat": 4,
 "nbformat_minor": 5
}
